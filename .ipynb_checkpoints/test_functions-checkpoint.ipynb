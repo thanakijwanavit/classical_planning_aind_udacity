{
 "cells": [
  {
   "cell_type": "code",
   "execution_count": 1,
   "metadata": {},
   "outputs": [],
   "source": [
    "import pandas as pd\n",
    "import matplotlib.pyplot as plt\n",
    "import seaborn as sls\n",
    "import _utils\n",
    "import run_search"
   ]
  },
  {
   "cell_type": "code",
   "execution_count": 2,
   "metadata": {},
   "outputs": [],
   "source": [
    "def search(problem, search_function, pname, sname, hstring, parameter=None):\n",
    "    ip = _utils.PrintableProblem(problem)\n",
    "    start = _utils.timer()\n",
    "    if parameter is not None:\n",
    "        node = search_function(ip, parameter)\n",
    "    else:\n",
    "        node = search_function(ip)\n",
    "    end = _utils.timer()\n",
    "    print(\"\\n# Actions   Expansions   Goal Tests   New Nodes\")\n",
    "    print(\"{}\\n\".format(ip))\n",
    "#     _utils.show_solution(node, end - start)\n",
    "    actions,expansions,goal_tests,new_nodes= str(ip).split()\n",
    "    return {'pname':pname, 'sname':sname, 'hstring':hstring,'actions':actions,'expansions':expansions,'goal_tests':goal_tests,'new_nodes':new_nodes,'plan_length':len(node.solution()),'time_elapsed':end-start,'solution':node.solution()}"
   ]
  },
  {
   "cell_type": "code",
   "execution_count": 3,
   "metadata": {},
   "outputs": [],
   "source": [
    "def main(p_choices, s_choices):\n",
    "    problems = [run_search.PROBLEMS[i-1] for i in map(int, p_choices)]\n",
    "    searches = [run_search.SEARCHES[i-1] for i in map(int, s_choices)]\n",
    "    solutions = []\n",
    "\n",
    "    for pname, problem_fn in problems:\n",
    "        for sname, search_fn, heuristic in searches:\n",
    "            hstring = heuristic if not heuristic else \" with {}\".format(heuristic)\n",
    "            print(\"\\nSolving {} using {}{}...\".format(pname, sname, hstring))\n",
    "\n",
    "            problem_instance = problem_fn()\n",
    "            heuristic_fn = None if not heuristic else getattr(problem_instance, heuristic)\n",
    "            solutions.append(search(problem_instance, search_fn,pname, sname, hstring, heuristic_fn))\n",
    "    return solutions"
   ]
  },
  {
   "cell_type": "code",
   "execution_count": 4,
   "metadata": {},
   "outputs": [
    {
     "name": "stdout",
     "output_type": "stream",
     "text": [
      "\n",
      "Solving Air Cargo Problem 1 using breadth_first_search...\n",
      "\n",
      "# Actions   Expansions   Goal Tests   New Nodes\n",
      "    20          43          56         178    \n",
      "\n",
      "\n",
      "Solving Air Cargo Problem 1 using depth_first_graph_search...\n",
      "\n",
      "# Actions   Expansions   Goal Tests   New Nodes\n",
      "    20          21          22          84    \n",
      "\n",
      "\n",
      "Solving Air Cargo Problem 1 using uniform_cost_search...\n",
      "\n",
      "# Actions   Expansions   Goal Tests   New Nodes\n",
      "    20          60          62         240    \n",
      "\n",
      "\n",
      "Solving Air Cargo Problem 1 using greedy_best_first_graph_search with h_unmet_goals...\n",
      "\n",
      "# Actions   Expansions   Goal Tests   New Nodes\n",
      "    20          7           9           29    \n",
      "\n",
      "\n",
      "Solving Air Cargo Problem 1 using greedy_best_first_graph_search with h_pg_levelsum...\n",
      "\n",
      "# Actions   Expansions   Goal Tests   New Nodes\n",
      "    20          6           8           28    \n",
      "\n",
      "\n",
      "Solving Air Cargo Problem 1 using greedy_best_first_graph_search with h_pg_maxlevel...\n",
      "\n",
      "# Actions   Expansions   Goal Tests   New Nodes\n",
      "    20          6           8           24    \n",
      "\n",
      "\n",
      "Solving Air Cargo Problem 1 using greedy_best_first_graph_search with h_pg_setlevel...\n",
      "\n",
      "# Actions   Expansions   Goal Tests   New Nodes\n",
      "    20          43          45         175    \n",
      "\n",
      "\n",
      "Solving Air Cargo Problem 1 using astar_search with h_unmet_goals...\n",
      "\n",
      "# Actions   Expansions   Goal Tests   New Nodes\n",
      "    20          50          52         206    \n",
      "\n",
      "\n",
      "Solving Air Cargo Problem 1 using astar_search with h_pg_levelsum...\n",
      "\n",
      "# Actions   Expansions   Goal Tests   New Nodes\n",
      "    20          28          30         122    \n",
      "\n",
      "\n",
      "Solving Air Cargo Problem 1 using astar_search with h_pg_maxlevel...\n",
      "\n",
      "# Actions   Expansions   Goal Tests   New Nodes\n",
      "    20          43          45         180    \n",
      "\n",
      "\n",
      "Solving Air Cargo Problem 1 using astar_search with h_pg_setlevel...\n",
      "\n",
      "# Actions   Expansions   Goal Tests   New Nodes\n",
      "    20          59          61         236    \n",
      "\n",
      "\n",
      "Solving Air Cargo Problem 2 using breadth_first_search...\n",
      "\n",
      "# Actions   Expansions   Goal Tests   New Nodes\n",
      "    72         3343        4609       30503   \n",
      "\n",
      "\n",
      "Solving Air Cargo Problem 2 using depth_first_graph_search...\n",
      "\n",
      "# Actions   Expansions   Goal Tests   New Nodes\n",
      "    72         624         625         5602   \n",
      "\n",
      "\n",
      "Solving Air Cargo Problem 2 using uniform_cost_search...\n",
      "\n",
      "# Actions   Expansions   Goal Tests   New Nodes\n",
      "    72         5154        5156       46618   \n",
      "\n",
      "\n",
      "Solving Air Cargo Problem 2 using greedy_best_first_graph_search with h_unmet_goals...\n",
      "\n",
      "# Actions   Expansions   Goal Tests   New Nodes\n",
      "    72          17          19         170    \n",
      "\n",
      "\n",
      "Solving Air Cargo Problem 2 using greedy_best_first_graph_search with h_pg_levelsum...\n",
      "\n",
      "# Actions   Expansions   Goal Tests   New Nodes\n",
      "    72          9           11          86    \n",
      "\n",
      "\n",
      "Solving Air Cargo Problem 2 using greedy_best_first_graph_search with h_pg_maxlevel...\n",
      "\n",
      "# Actions   Expansions   Goal Tests   New Nodes\n",
      "    72          27          29         249    \n",
      "\n",
      "\n",
      "Solving Air Cargo Problem 2 using greedy_best_first_graph_search with h_pg_setlevel...\n",
      "\n",
      "# Actions   Expansions   Goal Tests   New Nodes\n",
      "    72         2783        2785       25122   \n",
      "\n",
      "\n",
      "Solving Air Cargo Problem 2 using astar_search with h_unmet_goals...\n",
      "\n",
      "# Actions   Expansions   Goal Tests   New Nodes\n",
      "    72         2467        2469       22522   \n",
      "\n",
      "\n",
      "Solving Air Cargo Problem 2 using astar_search with h_pg_levelsum...\n",
      "\n",
      "# Actions   Expansions   Goal Tests   New Nodes\n",
      "    72         357         359         3426   \n",
      "\n",
      "\n",
      "Solving Air Cargo Problem 2 using astar_search with h_pg_maxlevel...\n",
      "\n",
      "# Actions   Expansions   Goal Tests   New Nodes\n",
      "    72         2887        2889       26594   \n",
      "\n",
      "\n",
      "Solving Air Cargo Problem 2 using astar_search with h_pg_setlevel...\n",
      "\n",
      "# Actions   Expansions   Goal Tests   New Nodes\n",
      "    72         3676        3678       33246   \n",
      "\n",
      "\n",
      "Solving Air Cargo Problem 3 using breadth_first_search...\n",
      "\n",
      "# Actions   Expansions   Goal Tests   New Nodes\n",
      "    88        14663       18098       129625  \n",
      "\n",
      "\n",
      "Solving Air Cargo Problem 3 using depth_first_graph_search...\n",
      "\n",
      "# Actions   Expansions   Goal Tests   New Nodes\n",
      "    88         408         409         3364   \n",
      "\n",
      "\n",
      "Solving Air Cargo Problem 3 using uniform_cost_search...\n",
      "\n",
      "# Actions   Expansions   Goal Tests   New Nodes\n",
      "    88        18510       18512       161936  \n",
      "\n",
      "\n",
      "Solving Air Cargo Problem 3 using greedy_best_first_graph_search with h_unmet_goals...\n",
      "\n",
      "# Actions   Expansions   Goal Tests   New Nodes\n",
      "    88          25          27         230    \n",
      "\n",
      "\n",
      "Solving Air Cargo Problem 3 using greedy_best_first_graph_search with h_pg_levelsum...\n",
      "\n",
      "# Actions   Expansions   Goal Tests   New Nodes\n",
      "    88          14          16         126    \n",
      "\n",
      "\n",
      "Solving Air Cargo Problem 3 using greedy_best_first_graph_search with h_pg_maxlevel...\n",
      "\n",
      "# Actions   Expansions   Goal Tests   New Nodes\n",
      "    88          21          23         195    \n",
      "\n",
      "\n",
      "Solving Air Cargo Problem 3 using greedy_best_first_graph_search with h_pg_setlevel...\n",
      "\n",
      "# Actions   Expansions   Goal Tests   New Nodes\n",
      "    88         9369        9371       81479   \n",
      "\n",
      "\n",
      "Solving Air Cargo Problem 3 using astar_search with h_unmet_goals...\n",
      "\n",
      "# Actions   Expansions   Goal Tests   New Nodes\n",
      "    88         7388        7390       65711   \n",
      "\n",
      "\n",
      "Solving Air Cargo Problem 3 using astar_search with h_pg_levelsum...\n",
      "\n",
      "# Actions   Expansions   Goal Tests   New Nodes\n",
      "    88         369         371         3403   \n",
      "\n",
      "\n",
      "Solving Air Cargo Problem 3 using astar_search with h_pg_maxlevel...\n",
      "\n",
      "# Actions   Expansions   Goal Tests   New Nodes\n",
      "    88         9580        9582       86312   \n",
      "\n",
      "\n",
      "Solving Air Cargo Problem 3 using astar_search with h_pg_setlevel...\n",
      "\n",
      "# Actions   Expansions   Goal Tests   New Nodes\n",
      "    88        14811       14813       129091  \n",
      "\n",
      "\n",
      "Solving Air Cargo Problem 4 using breadth_first_search...\n",
      "\n",
      "# Actions   Expansions   Goal Tests   New Nodes\n",
      "   104        99736       114953      944130  \n",
      "\n",
      "\n",
      "Solving Air Cargo Problem 4 using depth_first_graph_search...\n",
      "\n",
      "# Actions   Expansions   Goal Tests   New Nodes\n",
      "   104        25174       25175       228849  \n",
      "\n",
      "\n",
      "Solving Air Cargo Problem 4 using uniform_cost_search...\n",
      "\n",
      "# Actions   Expansions   Goal Tests   New Nodes\n",
      "   104        113339      113341     1066413  \n",
      "\n",
      "\n",
      "Solving Air Cargo Problem 4 using greedy_best_first_graph_search with h_unmet_goals...\n",
      "\n",
      "# Actions   Expansions   Goal Tests   New Nodes\n",
      "   104          29          31         280    \n",
      "\n",
      "\n",
      "Solving Air Cargo Problem 4 using greedy_best_first_graph_search with h_pg_levelsum...\n",
      "\n",
      "# Actions   Expansions   Goal Tests   New Nodes\n",
      "   104          17          19         165    \n",
      "\n",
      "\n",
      "Solving Air Cargo Problem 4 using greedy_best_first_graph_search with h_pg_maxlevel...\n",
      "\n",
      "# Actions   Expansions   Goal Tests   New Nodes\n",
      "   104          56          58         580    \n",
      "\n",
      "\n",
      "Solving Air Cargo Problem 4 using greedy_best_first_graph_search with h_pg_setlevel...\n",
      "\n",
      "# Actions   Expansions   Goal Tests   New Nodes\n",
      "   104        60393       60395       562575  \n",
      "\n",
      "\n",
      "Solving Air Cargo Problem 4 using astar_search with h_unmet_goals...\n",
      "\n",
      "# Actions   Expansions   Goal Tests   New Nodes\n",
      "   104        34330       34332       328509  \n",
      "\n",
      "\n",
      "Solving Air Cargo Problem 4 using astar_search with h_pg_levelsum...\n",
      "\n",
      "# Actions   Expansions   Goal Tests   New Nodes\n",
      "   104         1208        1210       12210   \n",
      "\n",
      "\n",
      "Solving Air Cargo Problem 4 using astar_search with h_pg_maxlevel...\n",
      "\n",
      "# Actions   Expansions   Goal Tests   New Nodes\n",
      "   104        62077       62079       599376  \n",
      "\n",
      "\n",
      "Solving Air Cargo Problem 4 using astar_search with h_pg_setlevel...\n",
      "\n",
      "# Actions   Expansions   Goal Tests   New Nodes\n",
      "   104        81429       81431       764975  \n",
      "\n"
     ]
    }
   ],
   "source": [
    "sol=main(range(1,len(run_search.PROBLEMS)+1),range(1,len(run_search.SEARCHES)+1))"
   ]
  },
  {
   "cell_type": "code",
   "execution_count": 5,
   "metadata": {},
   "outputs": [],
   "source": [
    "df=pd.DataFrame(sol)"
   ]
  },
  {
   "cell_type": "code",
   "execution_count": 6,
   "metadata": {},
   "outputs": [],
   "source": [
    "df.to_csv('./statistics.csv')"
   ]
  },
  {
   "cell_type": "code",
   "execution_count": null,
   "metadata": {},
   "outputs": [],
   "source": [
    "df.head()"
   ]
  },
  {
   "cell_type": "code",
   "execution_count": 9,
   "metadata": {},
   "outputs": [],
   "source": [
    "result=pd.read_csv('./statistics.csv',index_col=0)"
   ]
  },
  {
   "cell_type": "code",
   "execution_count": null,
   "metadata": {},
   "outputs": [],
   "source": [
    "pd.DataFrame({'number_of_nodes':[],'number_of_actions':[],'search_time(s)':[],'length_of_plans':[]})"
   ]
  },
  {
   "cell_type": "code",
   "execution_count": 75,
   "metadata": {},
   "outputs": [
    {
     "data": {
      "text/html": [
       "<div>\n",
       "<style scoped>\n",
       "    .dataframe tbody tr th:only-of-type {\n",
       "        vertical-align: middle;\n",
       "    }\n",
       "\n",
       "    .dataframe tbody tr th {\n",
       "        vertical-align: top;\n",
       "    }\n",
       "\n",
       "    .dataframe thead th {\n",
       "        text-align: right;\n",
       "    }\n",
       "</style>\n",
       "<table border=\"1\" class=\"dataframe\">\n",
       "  <thead>\n",
       "    <tr style=\"text-align: right;\">\n",
       "      <th></th>\n",
       "      <th>actions</th>\n",
       "      <th>expansions</th>\n",
       "      <th>goal_tests</th>\n",
       "      <th>hstring</th>\n",
       "      <th>new_nodes</th>\n",
       "      <th>plan_length</th>\n",
       "      <th>pname</th>\n",
       "      <th>sname</th>\n",
       "      <th>solution</th>\n",
       "      <th>time_elapsed</th>\n",
       "    </tr>\n",
       "  </thead>\n",
       "  <tbody>\n",
       "    <tr>\n",
       "      <th>0</th>\n",
       "      <td>20</td>\n",
       "      <td>43</td>\n",
       "      <td>56</td>\n",
       "      <td>NaN</td>\n",
       "      <td>178</td>\n",
       "      <td>6</td>\n",
       "      <td>Air Cargo Problem 1</td>\n",
       "      <td>breadth_first_search</td>\n",
       "      <td>[&lt;aimacode.planning.Action object at 0x1a17f30...</td>\n",
       "      <td>0.004194</td>\n",
       "    </tr>\n",
       "    <tr>\n",
       "      <th>1</th>\n",
       "      <td>20</td>\n",
       "      <td>21</td>\n",
       "      <td>22</td>\n",
       "      <td>NaN</td>\n",
       "      <td>84</td>\n",
       "      <td>20</td>\n",
       "      <td>Air Cargo Problem 1</td>\n",
       "      <td>depth_first_graph_search</td>\n",
       "      <td>[&lt;aimacode.planning.Action object at 0x1a17e06...</td>\n",
       "      <td>0.002304</td>\n",
       "    </tr>\n",
       "    <tr>\n",
       "      <th>2</th>\n",
       "      <td>20</td>\n",
       "      <td>60</td>\n",
       "      <td>62</td>\n",
       "      <td>NaN</td>\n",
       "      <td>240</td>\n",
       "      <td>6</td>\n",
       "      <td>Air Cargo Problem 1</td>\n",
       "      <td>uniform_cost_search</td>\n",
       "      <td>[&lt;aimacode.planning.Action object at 0x1a17f30...</td>\n",
       "      <td>0.007567</td>\n",
       "    </tr>\n",
       "    <tr>\n",
       "      <th>3</th>\n",
       "      <td>20</td>\n",
       "      <td>7</td>\n",
       "      <td>9</td>\n",
       "      <td>with h_unmet_goals</td>\n",
       "      <td>29</td>\n",
       "      <td>6</td>\n",
       "      <td>Air Cargo Problem 1</td>\n",
       "      <td>greedy_best_first_graph_search</td>\n",
       "      <td>[&lt;aimacode.planning.Action object at 0x1a17e06...</td>\n",
       "      <td>0.001263</td>\n",
       "    </tr>\n",
       "    <tr>\n",
       "      <th>4</th>\n",
       "      <td>20</td>\n",
       "      <td>6</td>\n",
       "      <td>8</td>\n",
       "      <td>with h_pg_levelsum</td>\n",
       "      <td>28</td>\n",
       "      <td>6</td>\n",
       "      <td>Air Cargo Problem 1</td>\n",
       "      <td>greedy_best_first_graph_search</td>\n",
       "      <td>[&lt;aimacode.planning.Action object at 0x1a17e06...</td>\n",
       "      <td>0.203686</td>\n",
       "    </tr>\n",
       "  </tbody>\n",
       "</table>\n",
       "</div>"
      ],
      "text/plain": [
       "   actions  expansions  goal_tests              hstring  new_nodes  \\\n",
       "0       20          43          56                  NaN        178   \n",
       "1       20          21          22                  NaN         84   \n",
       "2       20          60          62                  NaN        240   \n",
       "3       20           7           9   with h_unmet_goals         29   \n",
       "4       20           6           8   with h_pg_levelsum         28   \n",
       "\n",
       "   plan_length                pname                           sname  \\\n",
       "0            6  Air Cargo Problem 1            breadth_first_search   \n",
       "1           20  Air Cargo Problem 1        depth_first_graph_search   \n",
       "2            6  Air Cargo Problem 1             uniform_cost_search   \n",
       "3            6  Air Cargo Problem 1  greedy_best_first_graph_search   \n",
       "4            6  Air Cargo Problem 1  greedy_best_first_graph_search   \n",
       "\n",
       "                                            solution  time_elapsed  \n",
       "0  [<aimacode.planning.Action object at 0x1a17f30...      0.004194  \n",
       "1  [<aimacode.planning.Action object at 0x1a17e06...      0.002304  \n",
       "2  [<aimacode.planning.Action object at 0x1a17f30...      0.007567  \n",
       "3  [<aimacode.planning.Action object at 0x1a17e06...      0.001263  \n",
       "4  [<aimacode.planning.Action object at 0x1a17e06...      0.203686  "
      ]
     },
     "execution_count": 75,
     "metadata": {},
     "output_type": "execute_result"
    }
   ],
   "source": [
    "result.head()"
   ]
  },
  {
   "cell_type": "code",
   "execution_count": 104,
   "metadata": {},
   "outputs": [
    {
     "data": {
      "image/png": "[encoded data removed]",
      "text/plain": [
       "<matplotlib.figure.Figure at 0x1a321c0048>"
      ]
     },
     "metadata": {
      "needs_background": "light"
     },
     "output_type": "display_data"
    }
   ],
   "source": [
    "# fig,ax = plt.subplots()\n",
    "# plt.yscale('log')\n",
    "from matplotlib.pyplot import figure\n",
    "\n",
    "result.groupby(['sname','pname']).mean().unstack(0).plot(kind='bar',y='time_elapsed')\n",
    "plt.yscale('log')"
   ]
  },
  {
   "cell_type": "code",
   "execution_count": 118,
   "metadata": {},
   "outputs": [
    {
     "data": {
      "text/plain": [
       "<matplotlib.axes._subplots.AxesSubplot at 0x1a302cdf60>"
      ]
     },
     "execution_count": 118,
     "metadata": {},
     "output_type": "execute_result"
    },
    {
     "data": {
      "image/png": "[encoded data removed]",
      "text/plain": [
       "<matplotlib.figure.Figure at 0x1a30036e80>"
      ]
     },
     "metadata": {
      "needs_background": "light"
     },
     "output_type": "display_data"
    }
   ],
   "source": [
    "result.groupby('actions').mean().plot(y='new_nodes')"
   ]
  },
  {
   "cell_type": "code",
   "execution_count": 116,
   "metadata": {},
   "outputs": [
    {
     "data": {
      "image/png": "[encoded data removed]",
      "text/plain": [
       "<matplotlib.figure.Figure at 0x1a303eeb38>"
      ]
     },
     "metadata": {
      "needs_background": "light"
     },
     "output_type": "display_data"
    }
   ],
   "source": [
    "result.groupby('actions').mean().plot(y='time_elapsed')\n",
    "plt.yscale('log')"
   ]
  },
  {
   "cell_type": "raw",
   "metadata": {},
   "source": []
  },
  {
   "cell_type": "code",
   "execution_count": null,
   "metadata": {},
   "outputs": [],
   "source": [
    "run_search.SEARCHES"
   ]
  },
  {
   "cell_type": "code",
   "execution_count": null,
   "metadata": {},
   "outputs": [],
   "source": [
    "dir(run_search)"
   ]
  },
  {
   "cell_type": "code",
   "execution_count": null,
   "metadata": {},
   "outputs": [],
   "source": [
    "run_search.main(range(1,len(run_search.PROBLEMS)+1),[1])"
   ]
  },
  {
   "cell_type": "code",
   "execution_count": null,
   "metadata": {},
   "outputs": [],
   "source": [
    "import sys\n",
    "import io\n",
    "\n",
    "old_stdout = sys.stdout # Memorize the default stdout stream\n",
    "sys.stdout = buffer = io.StringIO()\n",
    "\n",
    "print('123')\n",
    "a = 'HeLLo WorLd!'\n",
    "print(a)\n",
    "# Call your algorithm function.\n",
    "# etc...\n",
    "\n",
    "sys.stdout = old_stdout # Put the old stream back in place\n",
    "\n",
    "whatWasPrinted = buffer.getvalue() # Return a str containing the entire contents of the buffer.\n",
    "print(whatWasPrinted) # Why not to print it?"
   ]
  },
  {
   "cell_type": "code",
   "execution_count": null,
   "metadata": {},
   "outputs": [],
   "source": []
  },
  {
   "cell_type": "code",
   "execution_count": null,
   "metadata": {},
   "outputs": [],
   "source": []
  },
  {
   "cell_type": "code",
   "execution_count": null,
   "metadata": {},
   "outputs": [],
   "source": []
  }
 ],
 "metadata": {
  "kernelspec": {
   "display_name": "Python 3",
   "language": "python",
   "name": "python3"
  },
  "language_info": {
   "codemirror_mode": {
    "name": "ipython",
    "version": 3
   },
   "file_extension": ".py",
   "mimetype": "text/x-python",
   "name": "python",
   "nbconvert_exporter": "python",
   "pygments_lexer": "ipython3",
   "version": "3.6.8"
  }
 },
 "nbformat": 4,
 "nbformat_minor": 2
}
